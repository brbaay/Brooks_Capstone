{
 "cells": [
  {
   "cell_type": "raw",
   "id": "c98b27f7-cc8e-42bb-8676-e9915d7f163d",
   "metadata": {},
   "source": [
    "Author: Brooks Baay\n",
    "\n",
    "This code takes tab deliminated BED files from promoter region coverage data and creates\n",
    "a file for each promoter described by its: \n",
    "\n",
    "- Number (in the order that it was found in the BED file) \n",
    "- Chromosome it was located on \n",
    "- Start/Stop locations \n",
    "- Length in BP\n",
    "- Average Coverage across its region\n",
    "- Median Coverage across its region\n",
    "- Maximum Coverage value\n",
    "\n",
    "Inputs: \n",
    "- Tab-delimited .bedgraph file"
   ]
  },
  {
   "cell_type": "code",
   "execution_count": 1,
   "id": "64547991-9ddd-4b32-bbbd-72db408aa83f",
   "metadata": {},
   "outputs": [
    {
     "name": "stdout",
     "output_type": "stream",
     "text": [
      "Defaulting to user installation because normal site-packages is not writeable\n",
      "Requirement already satisfied: pandas in /opt/pub/eb/apps/all/DavidsonJupyter/2021-common-GCCcore-10.2.0/lib/python3.8/site-packages (1.4.3)\n",
      "Requirement already satisfied: numpy>=1.18.5 in /opt/pub/eb/apps/all/DavidsonJupyter/2021-common-GCCcore-10.2.0/lib/python3.8/site-packages (from pandas) (1.23.1)\n",
      "Requirement already satisfied: pytz>=2020.1 in /opt/pub/eb/apps/all/DavidsonJupyter/2021-common-GCCcore-10.2.0/lib/python3.8/site-packages (from pandas) (2022.1)\n",
      "Requirement already satisfied: python-dateutil>=2.8.1 in /opt/pub/eb/apps/all/DavidsonJupyter/2021-common-GCCcore-10.2.0/lib/python3.8/site-packages (from pandas) (2.8.2)\n",
      "Requirement already satisfied: six>=1.5 in /opt/pub/eb/apps/all/DavidsonJupyter/2021-common-GCCcore-10.2.0/lib/python3.8/site-packages (from python-dateutil>=2.8.1->pandas) (1.16.0)\n",
      "\n",
      "\u001b[1m[\u001b[0m\u001b[34;49mnotice\u001b[0m\u001b[1;39;49m]\u001b[0m\u001b[39;49m A new release of pip available: \u001b[0m\u001b[31;49m22.2\u001b[0m\u001b[39;49m -> \u001b[0m\u001b[32;49m23.3\u001b[0m\n",
      "\u001b[1m[\u001b[0m\u001b[34;49mnotice\u001b[0m\u001b[1;39;49m]\u001b[0m\u001b[39;49m To update, run: \u001b[0m\u001b[32;49mpython3 -m pip install --upgrade pip\u001b[0m\n",
      "Note: you may need to restart the kernel to use updated packages.\n"
     ]
    }
   ],
   "source": [
    "pip install pandas"
   ]
  },
  {
   "cell_type": "code",
   "execution_count": 2,
   "id": "31fcf6bd-e910-4740-8512-f64f35d9e377",
   "metadata": {},
   "outputs": [
    {
     "name": "stderr",
     "output_type": "stream",
     "text": [
      "/tmp/ipykernel_1741732/3832325024.py:10: FutureWarning: The frame.append method is deprecated and will be removed from pandas in a future version. Use pandas.concat instead.\n",
      "  data = data1.append(data2, ignore_index='True')\n",
      "/tmp/ipykernel_1741732/3832325024.py:11: FutureWarning: The frame.append method is deprecated and will be removed from pandas in a future version. Use pandas.concat instead.\n",
      "  data = data.append(data3, ignore_index='True')\n",
      "/tmp/ipykernel_1741732/3832325024.py:12: FutureWarning: The frame.append method is deprecated and will be removed from pandas in a future version. Use pandas.concat instead.\n",
      "  data = data.append(data4, ignore_index='True')\n"
     ]
    }
   ],
   "source": [
    "import pandas as pd\n",
    "import matplotlib.pyplot as plt\n",
    "\n",
    "# converts a bedgraph file into a pandas dataframe\n",
    "data1 = pd.read_csv('MSp134.bedgraph', sep= '\\t', names = ['Chrom','Beginning', 'End', 'Coverage'])\n",
    "data2 = pd.read_csv('MSp135.bedgraph', sep= '\\t', names = ['Chrom','Beginning', 'End', 'Coverage'])\n",
    "data3 = pd.read_csv('MSp136.bedgraph', sep= '\\t', names = ['Chrom','Beginning', 'End', 'Coverage'])\n",
    "data4 = pd.read_csv('MSp137.bedgraph', sep= '\\t', names = ['Chrom','Beginning', 'End', 'Coverage'])\n",
    "\n",
    "data = data1.append(data2, ignore_index='True')\n",
    "data = data.append(data3, ignore_index='True')\n",
    "data = data.append(data4, ignore_index='True')"
   ]
  },
  {
   "cell_type": "code",
   "execution_count": 8,
   "id": "98ae0a09-1c0e-4bed-85e6-f8a933e053ef",
   "metadata": {},
   "outputs": [
    {
     "name": "stdout",
     "output_type": "stream",
     "text": [
      "1790\n",
      "      Promoter Number   Chrom   Start    Stop Length        Avg   Med  \\\n",
      "1                   1    chrI    2171    2664    493    13.0625  11.5   \n",
      "2                   2    chrI    9140    9264    124        2.5   2.5   \n",
      "3                   3    chrI    9707   10090    383  12.344828  12.0   \n",
      "4                   4    chrI   11798   12016    218   2.857143   3.0   \n",
      "5                   5    chrI   23742   28342   4600        2.0   1.5   \n",
      "...               ...     ...     ...     ...    ...        ...   ...   \n",
      "11807           11807  chrXVI  939667  939925    258     39.375  42.0   \n",
      "11808           11808  chrXVI  942820  943392    572  21.114286  23.0   \n",
      "11809           11809  chrXVI  943595  944004    409   5.909091   6.0   \n",
      "11810           11810  chrXVI  946691  946802    111        3.0   3.0   \n",
      "11811           11811  chrXVI  947339  947831    492   5.230769   4.0   \n",
      "\n",
      "      Max Coverage  \n",
      "1               19  \n",
      "2                4  \n",
      "3               25  \n",
      "4                5  \n",
      "5                4  \n",
      "...            ...  \n",
      "11807           55  \n",
      "11808           29  \n",
      "11809            8  \n",
      "11810            5  \n",
      "11811           13  \n",
      "\n",
      "[11811 rows x 8 columns]\n"
     ]
    }
   ],
   "source": [
    "i = 0\n",
    "# counter for each row of the converted BED file\n",
    "k = 0\n",
    "# keeps track of last row number at the end of each region\n",
    "j = 1\n",
    "# counts the number of promoters\n",
    "l = 0\n",
    "# counts the number of \"one-liners\"\n",
    "\n",
    "row = data.shape[0]\n",
    "\n",
    "myFile = pd.DataFrame(columns=['Promoter Number','Chrom', 'Start', 'Stop', 'Length', 'Avg', 'Med', 'Max Coverage'])\n",
    "\n",
    "while i < row-3:\n",
    "    end = data.iat[i,2]\n",
    "    start = data.iat[i+1,1]\n",
    "    cov = 0\n",
    "    maximum = 0\n",
    "    mean = 0\n",
    "    \n",
    "\n",
    "    if (end == start):\n",
    "        while end == start:\n",
    "            \n",
    "            if i == row: \n",
    "                end = data.iat[i,2]\n",
    "                break\n",
    "            \n",
    "            else: \n",
    "                # print(end,start,\"2\")\n",
    "                end = data.iat[i,2]\n",
    "                start = data.iat[i+1,1]\n",
    "                i += 1\n",
    "                newFrame = data.iloc[k:i]\n",
    "\n",
    "                cov = newFrame.loc[i-1, 'Coverage']\n",
    "   \n",
    "        \n",
    "        chrom = newFrame.loc[i-1, 'Chrom']\n",
    "        promStart = newFrame.loc[k + 1, 'Beginning']\n",
    "        promEnd = newFrame.loc[i-1, 'End']\n",
    "        promLen = promEnd - promStart\n",
    "        mean = newFrame['Coverage'].mean()\n",
    "        median = newFrame['Coverage'].median()\n",
    "        maximum = newFrame['Coverage'].max()\n",
    "\n",
    "\n",
    "        myFile.loc[j, 'Promoter Number'] = j\n",
    "        myFile.loc[j, 'Chrom'] = chrom\n",
    "        myFile.loc[j, 'Start'] = promStart\n",
    "        myFile.loc[j, 'Stop'] = promEnd\n",
    "        myFile.loc[j, 'Length'] = promLen\n",
    "        myFile.loc[j, 'Avg'] = mean\n",
    "        myFile.loc[j, 'Med'] = median\n",
    "        myFile.loc[j, 'Max Coverage'] = maximum\n",
    "\n",
    "        k = i\n",
    "        j += 1\n",
    "        cov = 0\n",
    "        maximum = 0\n",
    "        mean = 0\n",
    "        \n",
    "    else:\n",
    "        # print('this is a one-liner')\n",
    "        i += 2 \n",
    "        l += 1\n",
    "        \n",
    "print(l)\n",
    "print(myFile)\n",
    "\n",
    "\n"
   ]
  },
  {
   "cell_type": "code",
   "execution_count": null,
   "id": "ae673b89-33c1-4b2e-b356-951ef7fccdd2",
   "metadata": {},
   "outputs": [],
   "source": [
    "path = r'promoters.txt'\n",
    "with open (path, 'a') as f:\n",
    "    fileString = myFile.to_string()\n",
    "    f.write(fileString)"
   ]
  },
  {
   "cell_type": "code",
   "execution_count": 5,
   "id": "6b00672a-62c3-4021-b9be-0d01fa56c11f",
   "metadata": {},
   "outputs": [
    {
     "name": "stdout",
     "output_type": "stream",
     "text": [
      "1790 one-liners\n"
     ]
    }
   ],
   "source": [
    "print(l,\"one-liners\")"
   ]
  },
  {
   "cell_type": "code",
   "execution_count": 6,
   "id": "2b5ef38f-e7dd-4150-8332-bb63bc25a6ec",
   "metadata": {
    "tags": []
   },
   "outputs": [
    {
     "name": "stdout",
     "output_type": "stream",
     "text": [
      "372529\n",
      "-945168\n"
     ]
    },
    {
     "data": {
      "text/plain": [
       "(array([1.0000e+00, 0.0000e+00, 1.0000e+00, 0.0000e+00, 0.0000e+00,\n",
       "        0.0000e+00, 1.0000e+00, 1.1806e+04, 1.0000e+00, 1.0000e+00]),\n",
       " array([-945168.0, -813398.3, -681628.6, -549858.8999999999,\n",
       "        -418089.19999999995, -286319.5, -154549.79999999993,\n",
       "        -22780.09999999986, 108989.6000000001, 240759.30000000005,\n",
       "        372529.0], dtype=object),\n",
       " <BarContainer object of 10 artists>)"
      ]
     },
     "execution_count": 6,
     "metadata": {},
     "output_type": "execute_result"
    },
    {
     "data": {
      "image/png": "[encoded data removed]",
      "text/plain": [
       "<Figure size 432x288 with 1 Axes>"
      ]
     },
     "metadata": {
      "needs_background": "light"
     },
     "output_type": "display_data"
    }
   ],
   "source": [
    "lengthData = myFile['Length']\n",
    "print(lengthData.max())\n",
    "print(lengthData.min())\n",
    "plt.hist(lengthData)\n"
   ]
  },
  {
   "cell_type": "code",
   "execution_count": 7,
   "id": "b778d61a-2e68-4be5-8a2a-606e282bd569",
   "metadata": {},
   "outputs": [
    {
     "name": "stdout",
     "output_type": "stream",
     "text": [
      "chrXVI\n",
      "chrI\n"
     ]
    },
    {
     "data": {
      "text/plain": [
       "(array([ 933., 2364.,  382.,  740., 1310., 1432.,  926.,  669., 1879.,\n",
       "        1176.]),\n",
       " array([ 0. ,  1.6,  3.2,  4.8,  6.4,  8. ,  9.6, 11.2, 12.8, 14.4, 16. ]),\n",
       " <BarContainer object of 10 artists>)"
      ]
     },
     "execution_count": 7,
     "metadata": {},
     "output_type": "execute_result"
    },
    {
     "data": {
      "image/png": "[encoded data removed]",
      "text/plain": [
       "<Figure size 432x288 with 1 Axes>"
      ]
     },
     "metadata": {
      "needs_background": "light"
     },
     "output_type": "display_data"
    }
   ],
   "source": [
    "promData = myFile['Chrom']\n",
    "print(promData.max())\n",
    "print(promData.min())\n",
    "plt.hist(promData)"
   ]
  }
 ],
 "metadata": {
  "kernelspec": {
   "display_name": "Python 3.8",
   "language": "python",
   "name": "python3"
  },
  "language_info": {
   "codemirror_mode": {
    "name": "ipython",
    "version": 3
   },
   "file_extension": ".py",
   "mimetype": "text/x-python",
   "name": "python",
   "nbconvert_exporter": "python",
   "pygments_lexer": "ipython3",
   "version": "3.8.6"
  }
 },
 "nbformat": 4,
 "nbformat_minor": 5
}
