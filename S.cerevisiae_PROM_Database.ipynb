{
 "cells": [
  {
   "cell_type": "raw",
   "id": "c98b27f7-cc8e-42bb-8676-e9915d7f163d",
   "metadata": {},
   "source": [
    "Author: Brooks Baay\n",
    "\n",
    "This code takes tab deliminated BED files from promoter \n",
    "region coverage data and creates\n",
    "a file for each promoter defined by its: \n",
    "\n",
    "- Number (in the order that it was found in the BED file) \n",
    "- Chromosome it was located on \n",
    "- Start/Stop locations \n",
    "- Length in BP\n",
    "- Average Coverage across its region\n",
    "- Median Coverage across its region\n",
    "- Maximum Coverage value\n",
    "\n",
    "After promoters have been found, they\n",
    "are assigned to a gene to the promoter \n",
    "based location and direction of the gene\n",
    "\n",
    "Inputs: \n",
    "- Tab-delimited .bedgraph file\n",
    "- GFF file \n",
    "- Chromosome ID conversion .txt file"
   ]
  },
  {
   "cell_type": "code",
   "execution_count": 6,
   "id": "64547991-9ddd-4b32-bbbd-72db408aa83f",
   "metadata": {},
   "outputs": [
    {
     "name": "stdout",
     "output_type": "stream",
     "text": [
      "Defaulting to user installation because normal site-packages is not writeable\n",
      "Requirement already satisfied: pandas in /opt/pub/eb/apps/all/DavidsonJupyter/2021-common-GCCcore-10.2.0/lib/python3.8/site-packages (1.4.3)\n",
      "Requirement already satisfied: pytz>=2020.1 in /opt/pub/eb/apps/all/DavidsonJupyter/2021-common-GCCcore-10.2.0/lib/python3.8/site-packages (from pandas) (2022.1)\n",
      "Requirement already satisfied: python-dateutil>=2.8.1 in /opt/pub/eb/apps/all/DavidsonJupyter/2021-common-GCCcore-10.2.0/lib/python3.8/site-packages (from pandas) (2.8.2)\n",
      "Requirement already satisfied: numpy>=1.18.5 in /opt/pub/eb/apps/all/DavidsonJupyter/2021-common-GCCcore-10.2.0/lib/python3.8/site-packages (from pandas) (1.23.1)\n",
      "Requirement already satisfied: six>=1.5 in /opt/pub/eb/apps/all/DavidsonJupyter/2021-common-GCCcore-10.2.0/lib/python3.8/site-packages (from python-dateutil>=2.8.1->pandas) (1.16.0)\n",
      "\n",
      "\u001b[1m[\u001b[0m\u001b[34;49mnotice\u001b[0m\u001b[1;39;49m]\u001b[0m\u001b[39;49m A new release of pip available: \u001b[0m\u001b[31;49m22.2\u001b[0m\u001b[39;49m -> \u001b[0m\u001b[32;49m23.3.1\u001b[0m\n",
      "\u001b[1m[\u001b[0m\u001b[34;49mnotice\u001b[0m\u001b[1;39;49m]\u001b[0m\u001b[39;49m To update, run: \u001b[0m\u001b[32;49mpython3 -m pip install --upgrade pip\u001b[0m\n",
      "Note: you may need to restart the kernel to use updated packages.\n"
     ]
    }
   ],
   "source": [
    "pip install pandas\n",
    "import pandas as pd"
   ]
  },
  {
   "cell_type": "code",
   "execution_count": 7,
   "id": "31fcf6bd-e910-4740-8512-f64f35d9e377",
   "metadata": {},
   "outputs": [],
   "source": [
    "\"\"\"Converts the input csv file into a DataFrame and adds an EOF marker\"\"\"\n",
    "data = pd.read_csv('136_PEAR.bedgraph', sep= '\\t', names = ['Chrom','Beginning', 'End', 'Coverage'])\n",
    "\n",
    "data.loc[data.shape[0]] = ['END','END','END','END']"
   ]
  },
  {
   "cell_type": "code",
   "execution_count": 8,
   "id": "b534b526-e2fa-4403-9fa4-cdd95437fa24",
   "metadata": {},
   "outputs": [],
   "source": [
    "\"\"\"Creates a .txt file of the previous DataFrame\"\"\"\n",
    "path = r'DATAFile.txt'\n",
    "with open (path, 'a') as f:\n",
    "    fileString = data.to_string()\n",
    "    f.write(fileString)"
   ]
  },
  {
   "cell_type": "code",
   "execution_count": 9,
   "id": "98ae0a09-1c0e-4bed-85e6-f8a933e053ef",
   "metadata": {},
   "outputs": [
    {
     "name": "stdout",
     "output_type": "stream",
     "text": [
      "[217451, 1460, 808556, 809099, 73946, 77900, 78434, 115166, 137780, 142564, 143151, 178996, 199334, 214286, 264428, 307843, 1526062, 1526854, 1529087, 1531826, 1531868, 1660, 3374, 3394, 226632, 336728, 339371, 345721, 353397, 380571, 383062, 422817, 1444, 575894, 1730, 213337, 225917, 233542, 234285, 242038, 269045, 1067, 5351, 7167, 27939, 31936, 41523, 53794, 66928, 80602, 115550, 116105, 129929, 167574, 207073, 313282, 330605, 358656, 397604, 466185, 472292, 557061, 589849, 595824, 596344, 668244, 787323, 810250, 846657, 851667, 851692, 878161, 909244, 910136, 920622, 938970, 963323, 974256, 988069, 1012522, 1052851, 1070347, 1079804, 2426, 2952, 67758, 78971, 95031, 97753, 98774, 262824, 267357, 302248, 316597, 354836, 356063, 361631, 362133, 365282, 365819, 380606, 429696, 472798, 509360, 538053, 559071, 562184, 1643, 19029, 1657, 5981, 7300, 11201, 13673, 1066483, 1071350, 1071392, 1078035, 2569, 232, 1548, 781674, 10150, 14346, 111850, 117439, 128449, 155259, 162389, 187076, 204433, 210538, 252761, 304839, 316973, 323424, 326859, 333432, 349719, 384375, 413905, 423698, 427239, 428958, 429523, 502809, 505800, 523056, 537259, 559961, 581022, 605895, 606151, 619882, 672399, 682090, 790232, 820162, 826389, 830553, 831063, 898332, 912319, 921056, 944926, 954368, 1010181, 1030983, 1091020, 141, 47025, 67131, 95397, 164319, 189179, 189191, 199145, 212190, 227887, 265065, 286014, 310112, 345251, 355756, 381666, 387086, 410473, 431894, 431905, 475221, 556429, 560764, 588029, 593038, 603332, 659186, 695345, 731725, 742470, 742492, 818354, 821412, 821937, 837924, 860378, 885816, 892635, 892668, 934090, 944972]\n"
     ]
    }
   ],
   "source": [
    "\"\"\"___BED_2_Promoter___\n",
    "\n",
    "    Takes in a .bedgraph file\n",
    "    searches for continues coordinates\n",
    "    of coverage data and creates a \n",
    "    DataFrame of promoters\n",
    "    \n",
    "    Output: \n",
    "    - a DataFrame and matching .txt file sorted by \n",
    "    - Promoter Number, Chrom, Start, Stop, Length, Avg, Med, Max Coverage\n",
    "\n",
    "\"\"\"\n",
    "\n",
    "i = 0\n",
    "# counter for each row of the converted BED file\n",
    "k = 0\n",
    "# keeps track of last row number at the end of each promoter\n",
    "j = 1\n",
    "# counts the number of promoters\n",
    "\n",
    "lineList = []\n",
    "\n",
    "row = data.shape[0]\n",
    "\n",
    "promoters = pd.DataFrame(columns=\n",
    "        ['Promoter Number','Chrom',\n",
    "         'Start', 'Stop', 'Length', \n",
    "         'Avg', 'Med', 'Max Coverage'])\n",
    "\n",
    "while i < row - 1:\n",
    "\n",
    "    end = data.iat[i,2]\n",
    "    start = data.iat[i+1,1]\n",
    "    cov = 0\n",
    "\n",
    "    if end == start:\n",
    "        while end == start:\n",
    "\n",
    "            end = data.iat[i,2]\n",
    "            start = data.iat[i+1,1]\n",
    "            i += 1\n",
    "            newFrame = data.iloc[k:i]\n",
    "            cov = newFrame.loc[i-1, 'Coverage']\n",
    "\n",
    "\n",
    "        chrom = newFrame.loc[i-1, 'Chrom']\n",
    "        promStart = newFrame.loc[k, 'Beginning']\n",
    "        promEnd = newFrame.loc[i-1, 'End']\n",
    "        promLen = promEnd - promStart\n",
    "        mean = newFrame['Coverage'].mean()\n",
    "        median = newFrame['Coverage'].median()\n",
    "        maximum = newFrame['Coverage'].max()\n",
    "\n",
    "        promoters.loc[j, 'Promoter Number'] = j\n",
    "        promoters.loc[j, 'Chrom'] = chrom\n",
    "        promoters.loc[j, 'Start'] = promStart\n",
    "        promoters.loc[j, 'Stop'] = promEnd\n",
    "        promoters.loc[j, 'Length'] = promLen\n",
    "        promoters.loc[j, 'Avg'] = mean\n",
    "        promoters.loc[j, 'Med'] = median\n",
    "        promoters.loc[j, 'Max Coverage'] = maximum\n",
    "\n",
    "        k = i\n",
    "        j += 1\n",
    "        cov = 0\n",
    "    \n",
    "    else:\n",
    "        \"\"\"list of oneliners\"\"\"\n",
    "        lineList.append(data.iat[i,2])\n",
    "        i += 2 "
   ]
  },
  {
   "cell_type": "code",
   "execution_count": null,
   "id": "f0150e4b-339b-4067-b8d1-40579d811ea0",
   "metadata": {},
   "outputs": [],
   "source": [
    "\"\"\"Creates a .txt file of the promoters found\"\"\"\n",
    "path = r'Promoters.txt'\n",
    "with open (path, 'a') as f:\n",
    "    fileString = promoters.to_string()\n",
    "    f.write(fileString)  "
   ]
  },
  {
   "cell_type": "code",
   "execution_count": 10,
   "id": "2ff07a5f-6f7e-45c7-bd32-ce5edbb819db",
   "metadata": {},
   "outputs": [],
   "source": [
    "\"\"\"Creates a DataFrame and matching .txt file of promoters with lengths over 1000\"\"\"\n",
    "longFile = promoters.loc[(promoters['Length'] > 1000)]\n",
    "\n",
    "path = r'LongProm.txt'\n",
    "with open (path, 'a') as f:\n",
    "    fileString = longFile.to_string()\n",
    "    f.write(fileString) "
   ]
  },
  {
   "cell_type": "code",
   "execution_count": 11,
   "id": "e72b5d8b-a246-4c53-a48a-1a523c09cbcc",
   "metadata": {},
   "outputs": [
    {
     "data": {
      "text/plain": [
       "<AxesSubplot:>"
      ]
     },
     "execution_count": 11,
     "metadata": {},
     "output_type": "execute_result"
    },
    {
     "data": {
      "image/png": "[encoded data removed]",
      "text/plain": [
       "<Figure size 432x288 with 1 Axes>"
      ]
     },
     "metadata": {
      "needs_background": "light"
     },
     "output_type": "display_data"
    }
   ],
   "source": [
    "\"\"\"Creates a Histogram of the promoter lengths\"\"\"\n",
    "promoters = promoters.loc[(promoters['Length'] >= 0) \n",
    "                    & (promoters['Length'] < 1000)]\n",
    "   \n",
    "promoters['Length'].hist()"
   ]
  },
  {
   "cell_type": "code",
   "execution_count": null,
   "id": "edd3c3c6-e110-4195-9ce3-516d70718485",
   "metadata": {},
   "outputs": [],
   "source": [
    "\"\"\"Creates a Histogram of the Average Coverage\"\"\"\n",
    "covCopy = promoters.loc[(promoters['Avg'] >= 0) \n",
    "                     & (promoters['Avg'] < 2000)]\n",
    "\n",
    "covCopy['Avg'].hist()"
   ]
  },
  {
   "cell_type": "code",
   "execution_count": 9,
   "id": "1601633b-e14d-4006-87e7-1a2c6e7d39dc",
   "metadata": {},
   "outputs": [],
   "source": [
    "\"\"\"Creates a DataFrame from the GFF file\"\"\"\n",
    "geneFF = pd.read_csv('USEgenomicGCF.gff', sep= '\\t', \n",
    "        names = ['Chrom','2','TYPE',\n",
    "                 'START','STOP','6',\n",
    "                 'STRAND','8','GENE ID'])\n",
    "\n",
    "genes = geneFF[['Chrom','TYPE',\n",
    "                 'START','STOP',\n",
    "                 'STRAND','GENE ID']]\n",
    "\n",
    "genes = genes.drop([0,3])\n",
    "genes = genes.loc[(genes['TYPE'] == \"gene\")]\n"
   ]
  },
  {
   "cell_type": "code",
   "execution_count": 10,
   "id": "437ac575-fd5d-4c5e-a3b3-f065f81e17d4",
   "metadata": {},
   "outputs": [],
   "source": [
    "\"\"\"Converts the GFF chromosome IDs into matching ones from the BED files\"\"\"\n",
    "CHRMconv = pd.read_csv('chrmID.txt',sep = '\\t', \n",
    "            names = ['Chrom', 'Ref SEQ ID'])\n",
    "\n",
    "i = 0\n",
    "while i < CHRMconv.shape[0]: \n",
    "    genes.loc[genes.Chrom == CHRMconv.iat[i,1], \n",
    "                ['Chrom']] = CHRMconv.iat[i,0]\n",
    "    i += 1"
   ]
  },
  {
   "cell_type": "code",
   "execution_count": 11,
   "id": "aa70b2ed-27c0-4ebc-8ba9-8b66a36f9a90",
   "metadata": {},
   "outputs": [],
   "source": [
    "\"\"\"Creates a .txt file of the GFF data\"\"\"\n",
    "path = r'GENES.txt'\n",
    "with open (path, 'a') as f:\n",
    "    fileString = genes.to_string()\n",
    "    f.write(fileString)"
   ]
  },
  {
   "cell_type": "code",
   "execution_count": 12,
   "id": "494e0755-a541-4877-99e7-edacb4558ad8",
   "metadata": {},
   "outputs": [],
   "source": [
    "\"\"\"___Promoter_2_GENE___\"\"\"\n",
    "\n",
    "\"\"\"Creates a new DataFrame of\n",
    "   promoter-gene pairings\"\"\"\n",
    "\n",
    "prom2gene = pd.DataFrame(columns=\n",
    "        ['Promoter Number','Chrom',\n",
    "         'PROM Start','PROM Stop',\n",
    "         'Strand','GENE Start',\n",
    "         'GENE Stop','GENE ID'])\n",
    "\n",
    "PROMrow = promoters.shape[0]\n",
    "GENErow = genes.shape[0]\n",
    "\n",
    "i = 0\n",
    "# counter for the gene DataFrame \n",
    "j = 0\n",
    "# counter for the promoter DataFrame\n",
    "k = 0 \n",
    "# counter for the gene-promoter pairs\n",
    "\n",
    "while i < GENErow - 1:\n",
    "    GENEstrand = genes.iat[i,4]\n",
    "    \n",
    "    \"\"\"determines which strand the gene\n",
    "       is located on and adjusts the \n",
    "       parameters to search from the \n",
    "       other direction\n",
    "       \"\"\"\n",
    "    if GENEstrand == \"+\":\n",
    "\n",
    "        GENEstart = genes.iat[i,2]\n",
    "        GENEstop = genes.iat[i,3]\n",
    "        PROMstart = promoters.iat[j,2]\n",
    "        PROMstop = promoters.iat[j,3]\n",
    "        GENEchrom = genes.iat[i, 0] \n",
    "        PROMchrom = promoters.iat[j,1]\n",
    "        \n",
    "    if GENEstrand == \"-\":\n",
    "\n",
    "        GENEstart = genes.iat[i,3]\n",
    "        GENEstop = genes.iat[i,2]\n",
    "        PROMstart = promoters.iat[j,3]\n",
    "        PROMstop = promoters.iat[j,2]\n",
    "        GENEchrom = genes.iat[i, 0] \n",
    "        PROMchrom = promoters.iat[j,1] \n",
    "\n",
    "    if PROMstop >= GENEstart - 100 and PROMstop <= GENEstart +100 \n",
    "        and PROMchrom == GENEchrom:\n",
    "        \n",
    "        prom2gene.loc[k, 'Promoter Number'] = promoters.iat[j,0]\n",
    "        prom2gene.loc[k, 'Chrom'] = promoters.iat[j,1]\n",
    "        prom2gene.loc[k, 'PROM Start'] = PROMstart\n",
    "        prom2gene.loc[k, 'PROM Stop'] = PROMstop\n",
    "        prom2gene.loc[k, 'Strand'] = genes.iat[i,4]\n",
    "        prom2gene.loc[k, 'GENE Start'] = GENEstart\n",
    "        prom2gene.loc[k, 'GENE Stop'] = GENEstop\n",
    "        prom2gene.loc[k, 'GENE ID'] = genes.iat[i,5]\n",
    "        \n",
    "        k += 1\n",
    "        j += 1 \n",
    "        i += 1\n",
    "\n",
    "    elif j < PROMrow - 1: \n",
    "        j += 1\n",
    "    \n",
    "    else: \n",
    "        j = 0 \n",
    "        i += 1   "
   ]
  },
  {
   "cell_type": "code",
   "execution_count": 13,
   "id": "300cd452-67b0-44ad-98d0-cdccdf3c1ce4",
   "metadata": {},
   "outputs": [],
   "source": [
    "\"\"\"Creates a .txt file of the Promoter-Gene pairings\"\"\"\n",
    "path = r'PROM_2_GENE.txt'\n",
    "with open (path, 'a') as f:\n",
    "    fileString = prom2gene.to_string()\n",
    "    f.write(fileString)"
   ]
  }
 ],
 "metadata": {
  "kernelspec": {
   "display_name": "Python 3.8",
   "language": "python",
   "name": "python3"
  },
  "language_info": {
   "codemirror_mode": {
    "name": "ipython",
    "version": 3
   },
   "file_extension": ".py",
   "mimetype": "text/x-python",
   "name": "python",
   "nbconvert_exporter": "python",
   "pygments_lexer": "ipython3",
   "version": "3.8.6"
  }
 },
 "nbformat": 4,
 "nbformat_minor": 5
}
